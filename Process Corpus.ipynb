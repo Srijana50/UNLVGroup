{
 "cells": [
  {
   "cell_type": "code",
   "execution_count": 3,
   "metadata": {},
   "outputs": [],
   "source": [
    "import os\n",
    "import re\n",
    "from nltk.corpus.reader.plaintext import PlaintextCorpusReader\n",
    "from nltk.corpus import stopwords\n",
    "from nltk.tokenize import word_tokenize\n",
    "from nltk.stem import PorterStemmer"
   ]
  },
  {
   "cell_type": "code",
   "execution_count": 4,
   "metadata": {},
   "outputs": [],
   "source": [
    "# Note: Review files must be placed in a subfolder called 'corpdir'\n",
    "# This subfolder should be inside whichever folder the code is running\n",
    "reviews = PlaintextCorpusReader('corpdir/','.*')\n",
    "newReviews = []\n",
    "lcReviews = []\n",
    "nostopReviews = []\n",
    "stemmedReviews = []"
   ]
  },
  {
   "cell_type": "code",
   "execution_count": 5,
   "metadata": {},
   "outputs": [
    {
     "name": "stdout",
     "output_type": "stream",
     "text": [
      "A few hours after writing this review the phone's display started behaving erratically, with its bottom fifth or so flickering bright green when the brightness it set to or near maximum. Contacted Google, and their technicians concluded it is a hardware failure that requires replacement. Well, now at least I know why someone returned this phone in the first place. Truly disappointing\n",
      "\n",
      "The battery life kind of lacks but I have been on it quote a bit. I've become addicted to it learning all the cool features. It being refurbished doesn't even make a difference. Could've fooled me. Looks brand new. Acts brand new. No issues yet but this is my second day of using it. The speaker is awesome. Camera is DOPE. Haven't even learned half of what it can do. SO WORTH IT!!!\n",
      "\n",
      "Came on time, easy start up, battery was at about 65% when it arrived, which is to be expected. Screen, sounds, and body of the phone all work and look nice. I usually get the short end of the stick when buying phones online but this one came in looking and acting brand new.\n",
      "\n"
     ]
    }
   ],
   "source": [
    "for infile in sorted(reviews.fileids()):\n",
    "    print (reviews.raw(infile))\n",
    "    print ()"
   ]
  },
  {
   "cell_type": "code",
   "execution_count": 6,
   "metadata": {},
   "outputs": [
    {
     "name": "stdout",
     "output_type": "stream",
     "text": [
      "A few hours after writing this review the phones display started behaving erratically with its bottom fifth or so flickering bright green when the brightness it set to or near maximum Contacted Google and their technicians concluded it is a hardware failure that requires replacement Well now at least I know why someone returned this phone in the first place Truly disappointing\n",
      "\n",
      "The battery life kind of lacks but I have been on it quote a bit Ive become addicted to it learning all the cool features It being refurbished doesnt even make a difference Couldve fooled me Looks brand new Acts brand new No issues yet but this is my second day of using it The speaker is awesome Camera is DOPE Havent even learned half of what it can do SO WORTH IT\n",
      "\n",
      "Came on time easy start up battery was at about 65 when it arrived which is to be expected Screen sounds and body of the phone all work and look nice I usually get the short end of the stick when buying phones online but this one came in looking and acting brand new\n",
      "\n",
      "['A few hours after writing this review the phones display started behaving erratically with its bottom fifth or so flickering bright green when the brightness it set to or near maximum Contacted Google and their technicians concluded it is a hardware failure that requires replacement Well now at least I know why someone returned this phone in the first place Truly disappointing', 'The battery life kind of lacks but I have been on it quote a bit Ive become addicted to it learning all the cool features It being refurbished doesnt even make a difference Couldve fooled me Looks brand new Acts brand new No issues yet but this is my second day of using it The speaker is awesome Camera is DOPE Havent even learned half of what it can do SO WORTH IT', 'Came on time easy start up battery was at about 65 when it arrived which is to be expected Screen sounds and body of the phone all work and look nice I usually get the short end of the stick when buying phones online but this one came in looking and acting brand new']\n"
     ]
    }
   ],
   "source": [
    "for infile in sorted(reviews.fileids()):\n",
    "    strReview = re.sub(\"[^\\w\\s]\", \"\", reviews.raw(infile))\n",
    "    print(strReview)\n",
    "    newReviews.append(strReview)\n",
    "    print()\n",
    "print(newReviews)"
   ]
  },
  {
   "cell_type": "code",
   "execution_count": 7,
   "metadata": {},
   "outputs": [
    {
     "name": "stdout",
     "output_type": "stream",
     "text": [
      "a few hours after writing this review the phones display started behaving erratically with its bottom fifth or so flickering bright green when the brightness it set to or near maximum contacted google and their technicians concluded it is a hardware failure that requires replacement well now at least i know why someone returned this phone in the first place truly disappointing\n",
      "\n",
      "the battery life kind of lacks but i have been on it quote a bit ive become addicted to it learning all the cool features it being refurbished doesnt even make a difference couldve fooled me looks brand new acts brand new no issues yet but this is my second day of using it the speaker is awesome camera is dope havent even learned half of what it can do so worth it\n",
      "\n",
      "came on time easy start up battery was at about 65 when it arrived which is to be expected screen sounds and body of the phone all work and look nice i usually get the short end of the stick when buying phones online but this one came in looking and acting brand new\n",
      "\n",
      "['a few hours after writing this review the phones display started behaving erratically with its bottom fifth or so flickering bright green when the brightness it set to or near maximum contacted google and their technicians concluded it is a hardware failure that requires replacement well now at least i know why someone returned this phone in the first place truly disappointing', 'the battery life kind of lacks but i have been on it quote a bit ive become addicted to it learning all the cool features it being refurbished doesnt even make a difference couldve fooled me looks brand new acts brand new no issues yet but this is my second day of using it the speaker is awesome camera is dope havent even learned half of what it can do so worth it', 'came on time easy start up battery was at about 65 when it arrived which is to be expected screen sounds and body of the phone all work and look nice i usually get the short end of the stick when buying phones online but this one came in looking and acting brand new']\n"
     ]
    }
   ],
   "source": [
    "for review in newReviews:\n",
    "    review = review.lower()\n",
    "    print(review)\n",
    "    lcReviews.append(review)\n",
    "    print()\n",
    "print(lcReviews)"
   ]
  },
  {
   "cell_type": "code",
   "execution_count": 8,
   "metadata": {},
   "outputs": [
    {
     "name": "stdout",
     "output_type": "stream",
     "text": [
      "['hours', 'writing', 'review', 'phones', 'display', 'started', 'behaving', 'erratically', 'bottom', 'fifth', 'flickering', 'bright', 'green', 'brightness', 'set', 'near', 'maximum', 'contacted', 'google', 'technicians', 'concluded', 'hardware', 'failure', 'requires', 'replacement', 'well', 'least', 'know', 'someone', 'returned', 'phone', 'first', 'place', 'truly', 'disappointing']\n",
      "\n",
      "['battery', 'life', 'kind', 'lacks', 'quote', 'bit', 'ive', 'become', 'addicted', 'learning', 'cool', 'features', 'refurbished', 'doesnt', 'even', 'make', 'difference', 'couldve', 'fooled', 'looks', 'brand', 'new', 'acts', 'brand', 'new', 'issues', 'yet', 'second', 'day', 'using', 'speaker', 'awesome', 'camera', 'dope', 'havent', 'even', 'learned', 'half', 'worth']\n",
      "\n",
      "['came', 'time', 'easy', 'start', 'battery', '65', 'arrived', 'expected', 'screen', 'sounds', 'body', 'phone', 'work', 'look', 'nice', 'usually', 'get', 'short', 'end', 'stick', 'buying', 'phones', 'online', 'one', 'came', 'looking', 'acting', 'brand', 'new']\n",
      "\n",
      "[['hours', 'writing', 'review', 'phones', 'display', 'started', 'behaving', 'erratically', 'bottom', 'fifth', 'flickering', 'bright', 'green', 'brightness', 'set', 'near', 'maximum', 'contacted', 'google', 'technicians', 'concluded', 'hardware', 'failure', 'requires', 'replacement', 'well', 'least', 'know', 'someone', 'returned', 'phone', 'first', 'place', 'truly', 'disappointing'], ['battery', 'life', 'kind', 'lacks', 'quote', 'bit', 'ive', 'become', 'addicted', 'learning', 'cool', 'features', 'refurbished', 'doesnt', 'even', 'make', 'difference', 'couldve', 'fooled', 'looks', 'brand', 'new', 'acts', 'brand', 'new', 'issues', 'yet', 'second', 'day', 'using', 'speaker', 'awesome', 'camera', 'dope', 'havent', 'even', 'learned', 'half', 'worth'], ['came', 'time', 'easy', 'start', 'battery', '65', 'arrived', 'expected', 'screen', 'sounds', 'body', 'phone', 'work', 'look', 'nice', 'usually', 'get', 'short', 'end', 'stick', 'buying', 'phones', 'online', 'one', 'came', 'looking', 'acting', 'brand', 'new']]\n",
      "\n"
     ]
    }
   ],
   "source": [
    "eng_stop = set(stopwords.words('english'))\n",
    "for review in lcReviews:\n",
    "    words = word_tokenize(review)\n",
    "    words_nostop = [word for word in words if word not in eng_stop]\n",
    "    print(words_nostop)\n",
    "    nostopReviews.append(words_nostop)\n",
    "    print()\n",
    "print(nostopReviews)\n",
    "print()"
   ]
  },
  {
   "cell_type": "code",
   "execution_count": 9,
   "metadata": {},
   "outputs": [
    {
     "name": "stdout",
     "output_type": "stream",
     "text": [
      "[['hour', 'write', 'review', 'phone', 'display', 'start', 'behav', 'errat', 'bottom', 'fifth', 'flicker', 'bright', 'green', 'bright', 'set', 'near', 'maximum', 'contact', 'googl', 'technician', 'conclud', 'hardwar', 'failur', 'requir', 'replac', 'well', 'least', 'know', 'someon', 'return', 'phone', 'first', 'place', 'truli', 'disappoint'], ['batteri', 'life', 'kind', 'lack', 'quot', 'bit', 'ive', 'becom', 'addict', 'learn', 'cool', 'featur', 'refurbish', 'doesnt', 'even', 'make', 'differ', 'couldv', 'fool', 'look', 'brand', 'new', 'act', 'brand', 'new', 'issu', 'yet', 'second', 'day', 'use', 'speaker', 'awesom', 'camera', 'dope', 'havent', 'even', 'learn', 'half', 'worth'], ['came', 'time', 'easi', 'start', 'batteri', '65', 'arriv', 'expect', 'screen', 'sound', 'bodi', 'phone', 'work', 'look', 'nice', 'usual', 'get', 'short', 'end', 'stick', 'buy', 'phone', 'onlin', 'one', 'came', 'look', 'act', 'brand', 'new']]\n",
      "\n"
     ]
    }
   ],
   "source": [
    "stemmer = PorterStemmer()\n",
    "for review in nostopReviews:\n",
    "    reviewWords = []\n",
    "    for word in review:\n",
    "        reviewWords.append(stemmer.stem(word))\n",
    "    stemmedReviews.append(reviewWords)\n",
    "print (stemmedReviews)\n",
    "print()"
   ]
  },
  {
   "cell_type": "code",
   "execution_count": null,
   "metadata": {},
   "outputs": [],
   "source": []
  }
 ],
 "metadata": {
  "kernelspec": {
   "display_name": "Python 3",
   "language": "python",
   "name": "python3"
  },
  "language_info": {
   "codemirror_mode": {
    "name": "ipython",
    "version": 3
   },
   "file_extension": ".py",
   "mimetype": "text/x-python",
   "name": "python",
   "nbconvert_exporter": "python",
   "pygments_lexer": "ipython3",
   "version": "3.7.2"
  }
 },
 "nbformat": 4,
 "nbformat_minor": 2
}
