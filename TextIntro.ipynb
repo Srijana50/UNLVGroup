{
 "cells": [
  {
   "cell_type": "code",
   "execution_count": 1,
   "metadata": {},
   "outputs": [],
   "source": [
    "from nltk.tokenize import word_tokenize\n",
    "from nltk.corpus import stopwords\n",
    "from nltk.stem import PorterStemmer\n",
    "import re"
   ]
  },
  {
   "cell_type": "code",
   "execution_count": 2,
   "metadata": {},
   "outputs": [
    {
     "name": "stdout",
     "output_type": "stream",
     "text": [
      "Fourscore and seven years ago our fathers brought forth on this continent a new nation, conceived in liberty and dedicated to the proposition that all men are created equal. Now we are engaged in a great civil war, testing whether that nation or any nation so conceived and so dedicated can long endure. We are met on a great battle field of that war. We have come to dedicate a portion of that field, as a final resting place for those who here gave their lives that that nation might live. It is altogether fitting and proper that we should do this. But, in a larger sense, we can not dedicate, we can not consecrate, we can not hallow this ground. The brave men, living and dead, who struggled here, have consecrated it, far above our poor power to add or detract. The world will little note, nor long remember, what we say here, but it can never forget what they did here. It is for us the living, rather, to be dedicated here to the unfinished work which they who fought here have thus far so nobly advanced. It is rather for us to be here dedicated to the great task remaining before us, that from these honored dead we take increased devotion to that cause for which they gave the last full measure of devotion, that we here highly resolve that these dead shall not have died in vain. that this nation, under God, shall have a new birth of freedom - and that government of the people, by the people, for the people, shall not perish from the earth.\n",
      "\n"
     ]
    }
   ],
   "source": [
    "# load file\n",
    "gb = open('Gettysburg.txt', 'r')\n",
    "strGB = gb.read()\n",
    "print(strGB)\n",
    "print()"
   ]
  },
  {
   "cell_type": "code",
   "execution_count": 3,
   "metadata": {},
   "outputs": [
    {
     "name": "stdout",
     "output_type": "stream",
     "text": [
      "Fourscore and seven years ago our fathers brought forth on this continent a new nation conceived in liberty and dedicated to the proposition that all men are created equal Now we are engaged in a great civil war testing whether that nation or any nation so conceived and so dedicated can long endure We are met on a great battle field of that war We have come to dedicate a portion of that field as a final resting place for those who here gave their lives that that nation might live It is altogether fitting and proper that we should do this But in a larger sense we can not dedicate we can not consecrate we can not hallow this ground The brave men living and dead who struggled here have consecrated it far above our poor power to add or detract The world will little note nor long remember what we say here but it can never forget what they did here It is for us the living rather to be dedicated here to the unfinished work which they who fought here have thus far so nobly advanced It is rather for us to be here dedicated to the great task remaining before us that from these honored dead we take increased devotion to that cause for which they gave the last full measure of devotion that we here highly resolve that these dead shall not have died in vain that this nation under God shall have a new birth of freedom  and that government of the people by the people for the people shall not perish from the earth\n",
      "\n"
     ]
    }
   ],
   "source": [
    "# remove puctuation\n",
    "strGB = re.sub(\"[^\\w\\s]\", \"\", strGB)\n",
    "print(strGB)\n",
    "print()"
   ]
  },
  {
   "cell_type": "code",
   "execution_count": 4,
   "metadata": {},
   "outputs": [
    {
     "name": "stdout",
     "output_type": "stream",
     "text": [
      "fourscore and seven years ago our fathers brought forth on this continent a new nation conceived in liberty and dedicated to the proposition that all men are created equal now we are engaged in a great civil war testing whether that nation or any nation so conceived and so dedicated can long endure we are met on a great battle field of that war we have come to dedicate a portion of that field as a final resting place for those who here gave their lives that that nation might live it is altogether fitting and proper that we should do this but in a larger sense we can not dedicate we can not consecrate we can not hallow this ground the brave men living and dead who struggled here have consecrated it far above our poor power to add or detract the world will little note nor long remember what we say here but it can never forget what they did here it is for us the living rather to be dedicated here to the unfinished work which they who fought here have thus far so nobly advanced it is rather for us to be here dedicated to the great task remaining before us that from these honored dead we take increased devotion to that cause for which they gave the last full measure of devotion that we here highly resolve that these dead shall not have died in vain that this nation under god shall have a new birth of freedom  and that government of the people by the people for the people shall not perish from the earth\n",
      "\n"
     ]
    }
   ],
   "source": [
    "# change to all lower case\n",
    "strGB = strGB.lower()\n",
    "print(strGB)\n",
    "print()"
   ]
  },
  {
   "cell_type": "code",
   "execution_count": 5,
   "metadata": {},
   "outputs": [
    {
     "name": "stdout",
     "output_type": "stream",
     "text": [
      "['fourscore', 'and', 'seven', 'years', 'ago', 'our', 'fathers', 'brought', 'forth', 'on', 'this', 'continent', 'a', 'new', 'nation', 'conceived', 'in', 'liberty', 'and', 'dedicated', 'to', 'the', 'proposition', 'that', 'all', 'men', 'are', 'created', 'equal', 'now', 'we', 'are', 'engaged', 'in', 'a', 'great', 'civil', 'war', 'testing', 'whether', 'that', 'nation', 'or', 'any', 'nation', 'so', 'conceived', 'and', 'so', 'dedicated', 'can', 'long', 'endure', 'we', 'are', 'met', 'on', 'a', 'great', 'battle', 'field', 'of', 'that', 'war', 'we', 'have', 'come', 'to', 'dedicate', 'a', 'portion', 'of', 'that', 'field', 'as', 'a', 'final', 'resting', 'place', 'for', 'those', 'who', 'here', 'gave', 'their', 'lives', 'that', 'that', 'nation', 'might', 'live', 'it', 'is', 'altogether', 'fitting', 'and', 'proper', 'that', 'we', 'should', 'do', 'this', 'but', 'in', 'a', 'larger', 'sense', 'we', 'can', 'not', 'dedicate', 'we', 'can', 'not', 'consecrate', 'we', 'can', 'not', 'hallow', 'this', 'ground', 'the', 'brave', 'men', 'living', 'and', 'dead', 'who', 'struggled', 'here', 'have', 'consecrated', 'it', 'far', 'above', 'our', 'poor', 'power', 'to', 'add', 'or', 'detract', 'the', 'world', 'will', 'little', 'note', 'nor', 'long', 'remember', 'what', 'we', 'say', 'here', 'but', 'it', 'can', 'never', 'forget', 'what', 'they', 'did', 'here', 'it', 'is', 'for', 'us', 'the', 'living', 'rather', 'to', 'be', 'dedicated', 'here', 'to', 'the', 'unfinished', 'work', 'which', 'they', 'who', 'fought', 'here', 'have', 'thus', 'far', 'so', 'nobly', 'advanced', 'it', 'is', 'rather', 'for', 'us', 'to', 'be', 'here', 'dedicated', 'to', 'the', 'great', 'task', 'remaining', 'before', 'us', 'that', 'from', 'these', 'honored', 'dead', 'we', 'take', 'increased', 'devotion', 'to', 'that', 'cause', 'for', 'which', 'they', 'gave', 'the', 'last', 'full', 'measure', 'of', 'devotion', 'that', 'we', 'here', 'highly', 'resolve', 'that', 'these', 'dead', 'shall', 'not', 'have', 'died', 'in', 'vain', 'that', 'this', 'nation', 'under', 'god', 'shall', 'have', 'a', 'new', 'birth', 'of', 'freedom', 'and', 'that', 'government', 'of', 'the', 'people', 'by', 'the', 'people', 'for', 'the', 'people', 'shall', 'not', 'perish', 'from', 'the', 'earth']\n",
      "\n"
     ]
    }
   ],
   "source": [
    "# tokenize\n",
    "words = word_tokenize(strGB)\n",
    "print(words)\n",
    "print()"
   ]
  },
  {
   "cell_type": "code",
   "execution_count": 6,
   "metadata": {},
   "outputs": [
    {
     "name": "stdout",
     "output_type": "stream",
     "text": [
      "['fourscore', 'seven', 'years', 'ago', 'fathers', 'brought', 'forth', 'continent', 'new', 'nation', 'conceived', 'liberty', 'dedicated', 'proposition', 'men', 'created', 'equal', 'engaged', 'great', 'civil', 'war', 'testing', 'whether', 'nation', 'nation', 'conceived', 'dedicated', 'long', 'endure', 'met', 'great', 'battle', 'field', 'war', 'come', 'dedicate', 'portion', 'field', 'final', 'resting', 'place', 'gave', 'lives', 'nation', 'might', 'live', 'altogether', 'fitting', 'proper', 'larger', 'sense', 'dedicate', 'consecrate', 'hallow', 'ground', 'brave', 'men', 'living', 'dead', 'struggled', 'consecrated', 'far', 'poor', 'power', 'add', 'detract', 'world', 'little', 'note', 'long', 'remember', 'say', 'never', 'forget', 'us', 'living', 'rather', 'dedicated', 'unfinished', 'work', 'fought', 'thus', 'far', 'nobly', 'advanced', 'rather', 'us', 'dedicated', 'great', 'task', 'remaining', 'us', 'honored', 'dead', 'take', 'increased', 'devotion', 'cause', 'gave', 'last', 'full', 'measure', 'devotion', 'highly', 'resolve', 'dead', 'shall', 'died', 'vain', 'nation', 'god', 'shall', 'new', 'birth', 'freedom', 'government', 'people', 'people', 'people', 'shall', 'perish', 'earth']\n",
      "\n"
     ]
    }
   ],
   "source": [
    "# remove stopwords\n",
    "eng_stop = set(stopwords.words('english'))\n",
    "words_nostop = [word for word in words if word not in eng_stop]\n",
    "print(words_nostop)\n",
    "print()"
   ]
  },
  {
   "cell_type": "code",
   "execution_count": 7,
   "metadata": {},
   "outputs": [
    {
     "name": "stdout",
     "output_type": "stream",
     "text": [
      "['fourscor', 'seven', 'year', 'ago', 'father', 'brought', 'forth', 'contin', 'new', 'nation', 'conceiv', 'liberti', 'dedic', 'proposit', 'men', 'creat', 'equal', 'engag', 'great', 'civil', 'war', 'test', 'whether', 'nation', 'nation', 'conceiv', 'dedic', 'long', 'endur', 'met', 'great', 'battl', 'field', 'war', 'come', 'dedic', 'portion', 'field', 'final', 'rest', 'place', 'gave', 'live', 'nation', 'might', 'live', 'altogeth', 'fit', 'proper', 'larger', 'sens', 'dedic', 'consecr', 'hallow', 'ground', 'brave', 'men', 'live', 'dead', 'struggl', 'consecr', 'far', 'poor', 'power', 'add', 'detract', 'world', 'littl', 'note', 'long', 'rememb', 'say', 'never', 'forget', 'us', 'live', 'rather', 'dedic', 'unfinish', 'work', 'fought', 'thu', 'far', 'nobli', 'advanc', 'rather', 'us', 'dedic', 'great', 'task', 'remain', 'us', 'honor', 'dead', 'take', 'increas', 'devot', 'caus', 'gave', 'last', 'full', 'measur', 'devot', 'highli', 'resolv', 'dead', 'shall', 'die', 'vain', 'nation', 'god', 'shall', 'new', 'birth', 'freedom', 'govern', 'peopl', 'peopl', 'peopl', 'shall', 'perish', 'earth']\n",
      "\n"
     ]
    }
   ],
   "source": [
    "# Stem the words\n",
    "stemmer = PorterStemmer()\n",
    "words_stem = []\n",
    "for word in words_nostop:\n",
    "    words_stem.append(stemmer.stem(word))\n",
    "print (words_stem)\n",
    "print()"
   ]
  },
  {
   "cell_type": "code",
   "execution_count": null,
   "metadata": {},
   "outputs": [],
   "source": []
  }
 ],
 "metadata": {
  "kernelspec": {
   "display_name": "Python 3",
   "language": "python",
   "name": "python3"
  },
  "language_info": {
   "codemirror_mode": {
    "name": "ipython",
    "version": 3
   },
   "file_extension": ".py",
   "mimetype": "text/x-python",
   "name": "python",
   "nbconvert_exporter": "python",
   "pygments_lexer": "ipython3",
   "version": "3.7.2"
  }
 },
 "nbformat": 4,
 "nbformat_minor": 2
}
